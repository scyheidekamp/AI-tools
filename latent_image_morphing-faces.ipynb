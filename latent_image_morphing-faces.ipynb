{
  "nbformat": 4,
  "nbformat_minor": 0,
  "metadata": {
    "colab": {
      "name": "latent-images.ipynb",
      "provenance": [],
      "collapsed_sections": [],
      "authorship_tag": "ABX9TyMcoE8IT1qB5he1YCr7BKZh",
      "include_colab_link": true
    },
    "kernelspec": {
      "name": "python3",
      "display_name": "Python 3"
    },
    "language_info": {
      "name": "python"
    },
    "accelerator": "GPU"
  },
  "cells": [
    {
      "cell_type": "markdown",
      "metadata": {
        "id": "view-in-github",
        "colab_type": "text"
      },
      "source": [
        "<a href=\"https://colab.research.google.com/github/scyheidekamp/AI-tools/blob/main/latent_image_morphing-faces.ipynb\" target=\"_parent\"><img src=\"https://colab.research.google.com/assets/colab-badge.svg\" alt=\"Open In Colab\"/></a>"
      ]
    },
    {
      "cell_type": "markdown",
      "metadata": {
        "id": "ZB7RQxTGu1FT"
      },
      "source": [
        "<h1>Latent images - Morphing between faces using Stylegan2-ada en stylegan-encoder</h1>\n",
        "<p>This is my colab for stylegan2-ada morphing between faces.</p>\n",
        "<p>Check here the GPU that is assigned to you:</p>"
      ]
    },
    {
      "cell_type": "code",
      "metadata": {
        "colab": {
          "base_uri": "https://localhost:8080/"
        },
        "id": "Wa0ysAoYfIe_",
        "outputId": "dce3185b-a07a-497a-8d30-523fae4af9d5"
      },
      "source": [
        "!nvidia-smi"
      ],
      "execution_count": null,
      "outputs": [
        {
          "output_type": "stream",
          "text": [
            "Tue Aug  3 13:50:32 2021       \n",
            "+-----------------------------------------------------------------------------+\n",
            "| NVIDIA-SMI 470.42.01    Driver Version: 460.32.03    CUDA Version: 11.2     |\n",
            "|-------------------------------+----------------------+----------------------+\n",
            "| GPU  Name        Persistence-M| Bus-Id        Disp.A | Volatile Uncorr. ECC |\n",
            "| Fan  Temp  Perf  Pwr:Usage/Cap|         Memory-Usage | GPU-Util  Compute M. |\n",
            "|                               |                      |               MIG M. |\n",
            "|===============================+======================+======================|\n",
            "|   0  Tesla T4            Off  | 00000000:00:04.0 Off |                    0 |\n",
            "| N/A   47C    P8    10W /  70W |      0MiB / 15109MiB |      0%      Default |\n",
            "|                               |                      |                  N/A |\n",
            "+-------------------------------+----------------------+----------------------+\n",
            "                                                                               \n",
            "+-----------------------------------------------------------------------------+\n",
            "| Processes:                                                                  |\n",
            "|  GPU   GI   CI        PID   Type   Process name                  GPU Memory |\n",
            "|        ID   ID                                                   Usage      |\n",
            "|=============================================================================|\n",
            "|  No running processes found                                                 |\n",
            "+-----------------------------------------------------------------------------+\n"
          ],
          "name": "stdout"
        }
      ]
    },
    {
      "cell_type": "markdown",
      "metadata": {
        "id": "8XrKKHBIiUL5"
      },
      "source": [
        "Make sure you are in the main (content) folder:"
      ]
    },
    {
      "cell_type": "code",
      "metadata": {
        "colab": {
          "base_uri": "https://localhost:8080/"
        },
        "id": "FkOA7G_an6aK",
        "outputId": "bb66b716-55eb-4de2-a675-a0cec8001cfb"
      },
      "source": [
        "%cd /content\n",
        "!pwd"
      ],
      "execution_count": 40,
      "outputs": [
        {
          "output_type": "stream",
          "text": [
            "/content\n",
            "/content\n"
          ],
          "name": "stdout"
        }
      ]
    },
    {
      "cell_type": "markdown",
      "metadata": {
        "id": "Z3OLhQ6Im-bt"
      },
      "source": [
        "This downloads the image alignment tool"
      ]
    },
    {
      "cell_type": "code",
      "metadata": {
        "colab": {
          "base_uri": "https://localhost:8080/"
        },
        "id": "xBBIa_iom0rp",
        "outputId": "1466e43f-0c67-4043-e40f-8e7f2dde07db"
      },
      "source": [
        "!git clone https://github.com/Puzer/stylegan-encoder.git\n",
        "%cd /stylegan-encoder\n",
        "!mkdir raw_images"
      ],
      "execution_count": null,
      "outputs": [
        {
          "output_type": "stream",
          "text": [
            "Cloning into 'stylegan-encoder'...\n",
            "remote: Enumerating objects: 105, done.\u001b[K\n",
            "remote: Total 105 (delta 0), reused 0 (delta 0), pack-reused 105\u001b[K\n",
            "Receiving objects: 100% (105/105), 10.39 MiB | 7.26 MiB/s, done.\n",
            "Resolving deltas: 100% (28/28), done.\n"
          ],
          "name": "stdout"
        }
      ]
    },
    {
      "cell_type": "markdown",
      "metadata": {
        "id": "XpxyGCNSjnEa"
      },
      "source": [
        "\n",
        "<p>You also just created the folder raw_images, now you can upload files to raw_images in stylegan_encoder. </p>\n",
        "<p>Find the files by clicking on the folder icon in the left menu.</p>\n",
        "<p>Go back to the main directory to create and output folder</p>"
      ]
    },
    {
      "cell_type": "code",
      "metadata": {
        "id": "mDXITuT6otuA",
        "colab": {
          "base_uri": "https://localhost:8080/"
        },
        "outputId": "89c977c4-8622-478c-c8d0-a09821eeab9a"
      },
      "source": [
        "!mkdir /content/aligned_images"
      ],
      "execution_count": 39,
      "outputs": [
        {
          "output_type": "stream",
          "text": [
            "/content\n",
            "mkdir: cannot create directory ‘aligned_images’: File exists\n",
            "/content/stylegan-encoder\n"
          ],
          "name": "stdout"
        }
      ]
    },
    {
      "cell_type": "markdown",
      "metadata": {
        "id": "L8_41NjimkFZ"
      },
      "source": [
        "This makes sure you use the right version of Tensorflow"
      ]
    },
    {
      "cell_type": "code",
      "metadata": {
        "id": "hHVb2YbUmQ_Y"
      },
      "source": [
        "%tensorflow_version 1.x\n",
        "import tensorflow\n",
        "print(tensorflow.__version__)"
      ],
      "execution_count": null,
      "outputs": []
    },
    {
      "cell_type": "markdown",
      "metadata": {
        "id": "NK9pE6O9mqVT"
      },
      "source": [
        "Now we start cutting out the aligned images. They will be visible in the folder aligned_images"
      ]
    },
    {
      "cell_type": "code",
      "metadata": {
        "id": "E9dHOSYEoDZZ",
        "colab": {
          "base_uri": "https://localhost:8080/"
        },
        "outputId": "d6da9016-528e-474b-e5b4-605613f815c2"
      },
      "source": [
        "%cd /content/stylegan-encoder/\n",
        "!python align_images.py raw_images/ ../aligned_images/"
      ],
      "execution_count": 35,
      "outputs": [
        {
          "output_type": "stream",
          "text": [
            "Using TensorFlow backend.\n"
          ],
          "name": "stdout"
        }
      ]
    },
    {
      "cell_type": "code",
      "metadata": {
        "colab": {
          "base_uri": "https://localhost:8080/"
        },
        "id": "HGaQ_iCzfQkJ",
        "outputId": "ae880ec0-14ea-42b8-8039-42574a5e4d55"
      },
      "source": [
        "%cd /content\n",
        "!git clone https://github.com/cyremur/stylegan2-ada.git"
      ],
      "execution_count": null,
      "outputs": [
        {
          "output_type": "stream",
          "text": [
            "Cloning into 'stylegan2-ada'...\n",
            "remote: Enumerating objects: 73, done.\u001b[K\n",
            "remote: Total 73 (delta 0), reused 0 (delta 0), pack-reused 73\u001b[K\n",
            "Unpacking objects: 100% (73/73), done.\n"
          ],
          "name": "stdout"
        }
      ]
    },
    {
      "cell_type": "markdown",
      "metadata": {
        "id": "OTAK6YGZxrmW"
      },
      "source": [
        "We will let the Stylegan2-ada model generate an image in the latent space that's close to your input. Change the file name in the next piece of code to your first image in aligned_images.\n",
        "For a second image, also change the folder [output1] name to [output2]. <p>Run the command separate for every aligned image.</p>"
      ]
    },
    {
      "cell_type": "code",
      "metadata": {
        "colab": {
          "base_uri": "https://localhost:8080/"
        },
        "id": "xxyLjQLPjuTo",
        "outputId": "8c36b2e0-0321-4e93-9df2-6a719a60e376"
      },
      "source": [
        "%cd /content/stylegan2-ada/\n",
        "!python projector.py --outdir=output_images/output1 --target=../aligned_images/[FILENAME].png     --network=https://nvlabs-fi-cdn.nvidia.com/stylegan2-ada/pretrained/ffhq.pkl"
      ],
      "execution_count": null,
      "outputs": [
        {
          "output_type": "stream",
          "text": [
            "Loading networks from \"https://nvlabs-fi-cdn.nvidia.com/stylegan2-ada/pretrained/ffhq.pkl\"...\n",
            "Setting up TensorFlow plugin \"fused_bias_act.cu\": Loading... Done.\n",
            "Setting up TensorFlow plugin \"upfirdn_2d.cu\": Loading... Done.\n",
            "Projector: Computing W midpoint and stddev using 10000 samples...\n",
            "Projector: std = 10.0058\n",
            "Projector: Setting up noise inputs...\n",
            "Projector: Building image output graph...\n",
            "Projector: Building loss graph...\n",
            "Projector: Building noise regularization graph...\n",
            "Projector: Setting up optimizer...\n",
            "Projector: Preparing target images...\n",
            "Projector: Initializing optimization state...\n",
            "100% 1000/1000 [04:20<00:00,  3.83it/s, dist=0.2085, loss=0.21]\n"
          ],
          "name": "stdout"
        }
      ]
    },
    {
      "cell_type": "markdown",
      "metadata": {
        "id": "NLSXwVDVoNW3"
      },
      "source": [
        "You can download the proj.png in stylegan2-ada/output_images to decide if you want to continue with the latent image. \n",
        "\n",
        "After you have generated 2 folders [ouput1] & [output2] you can now make a morph video between the two images. The result will be visible in the content/video folder"
      ]
    },
    {
      "cell_type": "code",
      "metadata": {
        "colab": {
          "base_uri": "https://localhost:8080/"
        },
        "id": "WEDU6iM8Uunz",
        "outputId": "0adbce2d-438f-4402-8d22-2e9136a9b38c"
      },
      "source": [
        "!python renderMorph.py --network https://nvlabs-fi-cdn.nvidia.com/stylegan2-ada/pretrained/ffhq.pkl --dlatents1 output_images/output1/dlatents.npz --dlatents2 output_images/ouput2/dlatents.npz --name result --outdir ../video\n"
      ],
      "execution_count": null,
      "outputs": [
        {
          "output_type": "stream",
          "text": [
            "Loading networks from \"https://nvlabs-fi-cdn.nvidia.com/stylegan2-ada/pretrained/ffhq.pkl\"...\n",
            "Setting up TensorFlow plugin \"fused_bias_act.cu\": Loading... Done.\n",
            "Setting up TensorFlow plugin \"upfirdn_2d.cu\": Loading... Done.\n"
          ],
          "name": "stdout"
        }
      ]
    }
  ]
}